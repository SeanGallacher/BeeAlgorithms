{
 "cells": [
  {
   "cell_type": "code",
   "execution_count": 1,
   "metadata": {
    "collapsed": true
   },
   "outputs": [],
   "source": [
    "import datetime\n",
    "\n",
    "import BeeMotionTracker as MT\n",
    "from importlib import reload\n",
    "import numpy as np\n",
    "import matplotlib.animation as animation\n",
    "from IPython.display import HTML\n",
    "import time\n",
    "\n",
    "from scipy import signal\n",
    "import pandas as pd\n",
    "from matplotlib import pyplot as plt\n",
    "from scipy import fftpack\n",
    "\n",
    "\n",
    "\n",
    "DATA_PATH = '/Users/sean/Desktop/Bee Motion Tracker/beesearch-hand-annotated-data-main/'\n",
    "PATH = '/Users/sean/Desktop/Bee Motion Tracker/'\n",
    "from sklearn.neighbors import KNeighborsClassifier\n",
    "from sklearn.cluster import KMeans\n",
    "\n"
   ]
  },
  {
   "cell_type": "code",
   "execution_count": 1,
   "outputs": [],
   "source": [],
   "metadata": {
    "collapsed": false,
    "pycharm": {
     "name": "#%%\n"
    }
   }
  },
  {
   "cell_type": "code",
   "execution_count": 13,
   "outputs": [
    {
     "name": "stdout",
     "output_type": "stream",
     "text": [
      "Waggle dance 19\n",
      "image shape : (720, 1280)\n",
      "fourier processed\n"
     ]
    }
   ],
   "source": [
    "n = 19\n",
    "print(f'Waggle dance {n}')\n",
    "BMT = MT.BeeMotionTracker(f'{DATA_PATH}Video/RawFootage/WaggleDance_{n}.mp4',\n",
    "                   f'{DATA_PATH}Locations/WaggleDance_{n}_Locations.csv', name= f'WaggleDance_{n}', Images =(0,100))\n",
    "BMT.computeDMD()\n",
    "print('fourier processed')\n"
   ],
   "metadata": {
    "collapsed": false,
    "pycharm": {
     "name": "#%%\n"
    }
   }
  },
  {
   "cell_type": "code",
   "execution_count": 13,
   "outputs": [],
   "source": [
    "\n"
   ],
   "metadata": {
    "collapsed": false,
    "pycharm": {
     "name": "#%%\n"
    }
   }
  },
  {
   "cell_type": "code",
   "execution_count": 14,
   "outputs": [],
   "source": [
    "def plotGraphs(imageIndex, ax, phi, BMT, s, strongestFreq,waggle_truth, pred_point, conv_point_pred):\n",
    "\n",
    "    plt.title(f'index: {imageIndex} s: {s} strongestFreq: {strongestFreq} \\n A: {np.sum(np.abs(phi))}')\n",
    "    plt.imshow(phi.reshape(BMT.imageShape))\n",
    "    ax.set(facecolor=\"white\")\n",
    "    plt.colorbar()\n",
    "    if False:\n",
    "        plt.title(f'index: {imageIndex}')\n",
    "        plt.imshow(BMT.frames[imageIndex])\n",
    "    loc = BMT.locationCors[imageIndex]\n",
    "    x_true = int(loc[0])\n",
    "    y_true = int(loc[1])\n",
    "    if waggle_truth == 1:\n",
    "        color = 'red'\n",
    "    else:\n",
    "        color = 'blue'\n",
    "    plt.scatter(x_true, y_true, s=30, color = color)\n",
    "    plt.scatter(pred_point[0],pred_point[1], s=30, color='orange')\n",
    "    plt.scatter(conv_point_pred[0],conv_point_pred[1], s=30, color='yellow')\n",
    "    plt.show()"
   ],
   "metadata": {
    "collapsed": false,
    "pycharm": {
     "name": "#%%\n"
    }
   }
  },
  {
   "cell_type": "code",
   "execution_count": 15,
   "outputs": [],
   "source": [
    "def getCentriods(phi):\n",
    "    largestPoints = MT.k_largest_index_argpartition_v2(np.abs(phi).reshape(BMT.imageShape), 1000)\n",
    "    kmeans = KMeans(n_clusters=5,random_state=0).fit(largestPoints)\n",
    "\n",
    "    clusters = [[] for i in range(5)]\n",
    "\n",
    "    for i, l in enumerate(kmeans.labels_):\n",
    "        clusters[l].append(largestPoints[i])\n",
    "    cluster_size = [len(cluster) for cluster in clusters]\n",
    "    #print(f'cluster : {cluster_size}')\n",
    "    best_cluster = np.argmax(cluster_size) #MT.k_largest_index_argpartition_v2(np.array(cluster_size), 2)\n",
    "    #print(f'bestclusers : {best_cluster}')\n",
    "    centriodLocation1 = kmeans.cluster_centers_[best_cluster]\n",
    "    return centriodLocation1.squeeze()"
   ],
   "metadata": {
    "collapsed": false,
    "pycharm": {
     "name": "#%%\n"
    }
   }
  },
  {
   "cell_type": "code",
   "execution_count": 16,
   "outputs": [],
   "source": [
    "\n",
    "plot = False\n",
    "\n",
    "def dmdPredict(BMT, plot=False, th = .13, kMethod = 'phi', comments = False, d = 50, runLabel ='testing'):\n",
    "    fig, ax = plt.subplots()\n",
    "    imageIndex = BMT.frameslength\n",
    "    accuracies = []\n",
    "    waggle_max = []\n",
    "    waggle_max_conv = []\n",
    "    walk_max = []\n",
    "    walk_max_conv = []\n",
    "    waggle_box = []\n",
    "    walk_box = []\n",
    "    b = 5\n",
    "    dictitemsPhi = [('sumAbsPhi' + str(i), []) for i in range(b)]\n",
    "    dictitemsVhs = [('vhs' + str(i), []) for i in range(b)]\n",
    "    dictitemsbox_num = [('box_num' + str(i), []) for i in range(b)]\n",
    "    areaStregth = [('areaStregth', [])]\n",
    "\n",
    "    ## each pass through X is analysis for on image\n",
    "    for phis, ss, vhs in zip(BMT.phis_all, BMT.ss_all, BMT.vhs_all):\n",
    "        if comments:\n",
    "            print()\n",
    "            print(f\"IMAGE : {imageIndex}\")\n",
    "            print()\n",
    "        conv_max = 0\n",
    "        waggle_truth = BMT.waggles[imageIndex]\n",
    "        waggle_pred = 0\n",
    "        box_num =  0\n",
    "\n",
    "\n",
    "        ## get dyamic mode decomp\n",
    "        st = time.time()\n",
    "        ## for the modes, check the frequency\n",
    "        mode = 0\n",
    "        for phi, s, vh in zip(phis.T, ss, vhs):\n",
    "            phi[np.abs(phi) < .003] = 0\n",
    "            strengths = fftpack.fft(vh)\n",
    "            freqs = fftpack.fftfreq(len(vh)) * BMT.fps\n",
    "            strongestFreq = freqs[np.argmax(np.abs(strengths))]\n",
    "\n",
    "\n",
    "            #hotSpot = MT.convolutionMax(np.abs(phi).reshape(BMT.imageShape), 10)\n",
    "            #print(f'hotspot : {hotSpot}')\n",
    "            if (np.abs(strongestFreq) <= 16 and np.abs(strongestFreq) >= 10) and np.sum(np.abs(phi)) > 50:\n",
    "                if comments:\n",
    "                    print('Candiate found')\n",
    "                    print(f'abs : {np.sum(np.abs(phi))}')\n",
    "                ### maybe take the top 1000 points and run k means to get the 5 clusters chose the best one, run larger convolutions in that area to detect bee or no bee\n",
    "                ### maybe use image bluring t\n",
    "\n",
    "\n",
    "                im = np.abs(phi).reshape(BMT.imageShape)\n",
    "\n",
    "                row, col = np.unravel_index(im.argmax(), im.shape)\n",
    "\n",
    "                k = 1\n",
    "                kernal = np.ones((k,k))\n",
    "                #circleMask = MT.createCircleMask((k,k), k/2)\n",
    "                transform = signal.convolve2d(im, kernal, boundary='symm', mode='same') / k\n",
    "\n",
    "                centLoc1 = getCentriods(phi)\n",
    "                if comments: print(f'center location: {centLoc1}')\n",
    "\n",
    "                cy = int(centLoc1[1])\n",
    "                cx = int(centLoc1[0])\n",
    "                box = im[cx-d: cx+d, cy-d:cy+d]\n",
    "                if False:\n",
    "                    cy2= int(centLoc2[1])\n",
    "                    cx2 = int(centLoc2[0])\n",
    "                    box2 = im[cx2-d: cx2+d, cy2-d:cy2+d]\n",
    "                box_num = np.mean(box)\n",
    "                #print(f'box : {box}')\n",
    "\n",
    "                row_conv, col_conv = np.unravel_index(transform.argmax(), transform.shape)\n",
    "                conv_max = max(conv_max, transform.flatten().max())\n",
    "                if box_num > th:\n",
    "                    waggle_pred = 1\n",
    "                if plot: plotGraphs(imageIndex, ax, phi, BMT, s, strongestFreq,waggle_truth, (centLoc1[1], centLoc1[0]), (col_conv, row_conv))\n",
    "\n",
    "                if waggle_truth == 1:\n",
    "                    waggle_max_conv.append(conv_max)\n",
    "                    waggle_max.append(np.abs(phi).max())\n",
    "                    if box_num == box_num: waggle_box.append(box_num)\n",
    "                else:\n",
    "                    walk_max_conv.append(conv_max)\n",
    "                    walk_max.append(np.abs(phi).max())\n",
    "                    if box_num == box_num: walk_box.append(box_num)\n",
    "                mode +=1\n",
    "        ## print on false Negatives\n",
    "\n",
    "        if plot:\n",
    "            if waggle_pred == 1 and waggle_truth==0:\n",
    "                for phi, s, vh in zip(phis.T, ss, vhs):\n",
    "                    centriodLocation = getCentriods(phi)\n",
    "                    strengths = fftpack.fft(vh)\n",
    "                    freqs = fftpack.fftfreq(len(vh)) * BMT.fps\n",
    "                    strongestFreq = freqs[np.argmax(np.abs(strengths))]\n",
    "                    plotGraphs(imageIndex, ax, phi, BMT, s, strongestFreq, waggle_truth, (centLoc1[1], centLoc1[0]), (col_conv, row_conv))\n",
    "\n",
    "\n",
    "        imageIndex +=1\n",
    "        if comments:\n",
    "            print()\n",
    "            print(f'conv_max : {conv_max}')\n",
    "            if conv_max != 0:\n",
    "                print(f'box mean : {box_num}')\n",
    "\n",
    "            print(time.time() - st)\n",
    "            print(f'waggle Pred vs truth : {waggle_pred} vs {waggle_truth}')\n",
    "\n",
    "        accuracies.append(waggle_truth-waggle_pred)\n",
    "\n",
    "    plt.hist(waggle_max_conv, label= 'waggle_max_conv')\n",
    "    plt.hist(walk_max_conv,  label= 'walk_max_conv')\n",
    "    plt.show()\n",
    "    plt.hist(waggle_max, label= 'waggle_max')\n",
    "    plt.hist(walk_max,  label= 'walk_max')\n",
    "    plt.show()\n",
    "    plt.title('Mean around largest Kmeans cluster')\n",
    "    plt.hist(waggle_box, label= 'Waggle mean around cluster')\n",
    "    plt.hist(walk_box,  label= 'Walk mean around cluster')\n",
    "    plt.legend()\n",
    "    plt.show()\n",
    "    for w in [  [waggle_max,'waggle_max'], [waggle_max_conv,'waggle_max_conv'], [waggle_box, 'waggle_box'],\n",
    "                [walk_max, 'walk_max'], [walk_max_conv,'walk_max_conv'], [walk_box,'walk_box'] ]:\n",
    "        print(f' {w[1]} std: {np.std(w[0])} mean: {np.mean(w[0])}')\n",
    "\n",
    "\n",
    "    accuracies = np.array(accuracies)\n",
    "    predLen = len(accuracies)\n",
    "    correct = (accuracies == 0).sum()\n",
    "\n",
    "    falsePos = (accuracies == -1).sum()\n",
    "    falseNeg = (accuracies == 1).sum()\n",
    "    waggleArray = np.array(BMT.waggles[BMT.frameslength:imageIndex])\n",
    "    wagglePred = {\"waggle_truth\" : waggleArray.tolist(), \"waggle_pred\" :\n",
    "        accuracies.tolist()}\n",
    "    truePositives = np.sum(np.logical_and(accuracies == 0, waggleArray == 1))\n",
    "\n",
    "    df = pd.DataFrame.from_dict(wagglePred)\n",
    "    print(f'th = {th} d : {d} run label : {runLabel}')\n",
    "    df.to_csv(f'{PATH}wagglePreds.csv', index=True)\n",
    "    print(f'DMD accuracy : {round(correct/predLen,3)}')\n",
    "    print(f'DMD precision:  {round(truePositives/(truePositives+falsePos),4)}')\n",
    "    print(f'DMD recall : {round(truePositives/(truePositives+falseNeg),4)}')\n",
    "    print(f'DMD FalsePos : {round(falsePos/predLen,4)}')\n",
    "    print(f'DMD FalseNeg {round(falseNeg/predLen,4)}')\n",
    "    print(f'waggle percentage: {np.mean(waggleArray)}' )\n",
    "\n",
    "    return correct/predLen"
   ],
   "metadata": {
    "collapsed": false,
    "pycharm": {
     "name": "#%%\n"
    }
   }
  },
  {
   "cell_type": "code",
   "execution_count": 6,
   "outputs": [],
   "source": [],
   "metadata": {
    "collapsed": false,
    "pycharm": {
     "name": "#%%\n"
    }
   }
  },
  {
   "cell_type": "code",
   "execution_count": null,
   "outputs": [
    {
     "name": "stdout",
     "output_type": "stream",
     "text": [
      "image shape : (720, 1280)\n",
      "fourier processed\n"
     ]
    },
    {
     "data": {
      "text/plain": "<Figure size 432x288 with 1 Axes>",
      "image/png": "[encoded data removed]"
     },
     "metadata": {
      "needs_background": "light"
     },
     "output_type": "display_data"
    },
    {
     "data": {
      "text/plain": "<Figure size 432x288 with 1 Axes>",
      "image/png": "[encoded data removed]"
     },
     "metadata": {
      "needs_background": "light"
     },
     "output_type": "display_data"
    },
    {
     "data": {
      "text/plain": "<Figure size 432x288 with 1 Axes>",
      "image/png": "[encoded data removed]"
     },
     "metadata": {
      "needs_background": "light"
     },
     "output_type": "display_data"
    },
    {
     "name": "stdout",
     "output_type": "stream",
     "text": [
      " waggle_max std: 0.0008526260621297099 mean: 0.008916004198149564\n",
      " waggle_max_conv std: 0.0008972831665304018 mean: 0.008976417423220818\n",
      " waggle_box std: 0.001031546664277462 mean: 0.001473900231904164\n",
      " walk_max std: 0.0007545046963873233 mean: 0.009198116570009615\n",
      " walk_max_conv std: 0.0007545046963873233 mean: 0.009198116570009615\n",
      " walk_box std: 0.0003398528735837071 mean: 0.0005787113601344973\n",
      "th = 0.0024 d : 50 run label : testing\n",
      "DMD accuracy : 0.66\n",
      "DMD precision:  1.0\n",
      "DMD recall : 0.1951\n",
      "DMD FalsePos : 0.0\n",
      "DMD FalseNeg 0.3402\n",
      "image shape : (720, 1280)\n",
      "fourier processed\n"
     ]
    },
    {
     "data": {
      "text/plain": "<Figure size 432x288 with 1 Axes>",
      "image/png": "[encoded data removed]"
     },
     "metadata": {
      "needs_background": "light"
     },
     "output_type": "display_data"
    },
    {
     "data": {
      "text/plain": "<Figure size 432x288 with 1 Axes>",
      "image/png": "[encoded data removed]"
     },
     "metadata": {
      "needs_background": "light"
     },
     "output_type": "display_data"
    },
    {
     "data": {
      "text/plain": "<Figure size 432x288 with 1 Axes>",
      "image/png": "[encoded data removed]"
     },
     "metadata": {
      "needs_background": "light"
     },
     "output_type": "display_data"
    },
    {
     "name": "stdout",
     "output_type": "stream",
     "text": [
      " waggle_max std: 0.001015398745991627 mean: 0.009145594881647187\n",
      " waggle_max_conv std: 0.0010926787620594632 mean: 0.009209848989928224\n",
      " waggle_box std: 0.0008980461332408692 mean: 0.001094404484870452\n",
      " walk_max std: 0.000831496580860973 mean: 0.009428453218846576\n",
      " walk_max_conv std: 0.0008295494995824761 mean: 0.009437153682452666\n",
      " walk_box std: 0.0007582627935624203 mean: 0.0008388543041549979\n",
      "th = 0.0024 d : 50 run label : testing\n",
      "DMD accuracy : 0.6\n",
      "DMD precision:  0.619\n",
      "DMD recall : 0.1566\n",
      "DMD FalsePos : 0.041\n",
      "DMD FalseNeg 0.359\n",
      "image shape : (720, 1280)\n",
      "fourier processed\n"
     ]
    },
    {
     "data": {
      "text/plain": "<Figure size 432x288 with 1 Axes>",
      "image/png": "[encoded data removed]"
     },
     "metadata": {
      "needs_background": "light"
     },
     "output_type": "display_data"
    },
    {
     "data": {
      "text/plain": "<Figure size 432x288 with 1 Axes>",
      "image/png": "[encoded data removed]"
     },
     "metadata": {
      "needs_background": "light"
     },
     "output_type": "display_data"
    },
    {
     "data": {
      "text/plain": "<Figure size 432x288 with 1 Axes>",
      "image/png": "[encoded data removed]"
     },
     "metadata": {
      "needs_background": "light"
     },
     "output_type": "display_data"
    },
    {
     "name": "stdout",
     "output_type": "stream",
     "text": [
      " waggle_max std: 0.0007445029604307563 mean: 0.00961413963614043\n",
      " waggle_max_conv std: 0.0007493403964339073 mean: 0.009632103978606154\n",
      " waggle_box std: 0.0005497278544073438 mean: 0.0007373316369608986\n",
      " walk_max std: 0.0010055014906890406 mean: 0.009196667684417584\n",
      " walk_max_conv std: 0.0010406941177126758 mean: 0.009252975283839724\n",
      " walk_box std: 0.000955346212489174 mean: 0.0010543531728680789\n",
      "th = 0.0024 d : 50 run label : testing\n",
      "DMD accuracy : 0.523\n",
      "DMD precision:  0.1429\n",
      "DMD recall : 0.0241\n",
      "DMD FalsePos : 0.0615\n",
      "DMD FalseNeg 0.4154\n",
      "image shape : (720, 1280)\n",
      "fourier processed\n"
     ]
    },
    {
     "data": {
      "text/plain": "<Figure size 432x288 with 1 Axes>",
      "image/png": "[encoded data removed]"
     },
     "metadata": {
      "needs_background": "light"
     },
     "output_type": "display_data"
    },
    {
     "data": {
      "text/plain": "<Figure size 432x288 with 1 Axes>",
      "image/png": "[encoded data removed]"
     },
     "metadata": {
      "needs_background": "light"
     },
     "output_type": "display_data"
    },
    {
     "data": {
      "text/plain": "<Figure size 432x288 with 1 Axes>",
      "image/png": "[encoded data removed]"
     },
     "metadata": {
      "needs_background": "light"
     },
     "output_type": "display_data"
    },
    {
     "name": "stdout",
     "output_type": "stream",
     "text": [
      " waggle_max std: 0.0008726605629095248 mean: 0.009646546422741365\n",
      " waggle_max_conv std: 0.0008730927784267813 mean: 0.009652062155353539\n",
      " waggle_box std: 0.00046579345703392816 mean: 0.0007462523427702373\n",
      " walk_max std: 0.0010050389826325107 mean: 0.009644333917821192\n",
      " walk_max_conv std: 0.001023780869078387 mean: 0.009678551972250466\n",
      " walk_box std: 0.0007867157287063095 mean: 0.0008744216688302167\n",
      "th = 0.0024 d : 50 run label : testing\n",
      "DMD accuracy : 0.538\n",
      "DMD precision:  0.1111\n",
      "DMD recall : 0.012\n",
      "DMD FalsePos : 0.041\n",
      "DMD FalseNeg 0.4205\n",
      "image shape : (720, 1280)\n"
     ]
    }
   ],
   "source": [
    "# phi k means transform box\n",
    "import warnings\n",
    "chunks = 5\n",
    "for i in range(chunks):\n",
    "    with warnings.catch_warnings():\n",
    "        BMT = MT.BeeMotionTracker(f'{DATA_PATH}Video/RawFootage/WaggleDance_{n}.mp4',\n",
    "                           f'{DATA_PATH}Locations/WaggleDance_{n}_Locations.csv', name= f'WaggleDance_{n}', Images =(i*1000//chunks,(i+1)*1000//chunks))\n",
    "        BMT.computeDMD()\n",
    "        print('fourier processed')\n",
    "        warnings.simplefilter(\"ignore\", category=RuntimeWarning)\n",
    "        dmdPredict(BMT=BMT, th=.0024, comments=False, d = 25)"
   ],
   "metadata": {
    "collapsed": false,
    "pycharm": {
     "name": "#%%\n",
     "is_executing": true
    }
   }
  },
  {
   "cell_type": "code",
   "execution_count": null,
   "outputs": [],
   "source": [],
   "metadata": {
    "collapsed": false,
    "pycharm": {
     "name": "#%%\n"
    }
   }
  },
  {
   "cell_type": "code",
   "execution_count": 17,
   "outputs": [
    {
     "data": {
      "text/plain": "<Figure size 432x288 with 1 Axes>",
      "image/png": "[encoded data removed]"
     },
     "metadata": {
      "needs_background": "light"
     },
     "output_type": "display_data"
    },
    {
     "data": {
      "text/plain": "<Figure size 432x288 with 1 Axes>",
      "image/png": "[encoded data removed]"
     },
     "metadata": {
      "needs_background": "light"
     },
     "output_type": "display_data"
    },
    {
     "data": {
      "text/plain": "<Figure size 432x288 with 1 Axes>",
      "image/png": "[encoded data removed]"
     },
     "metadata": {
      "needs_background": "light"
     },
     "output_type": "display_data"
    },
    {
     "name": "stdout",
     "output_type": "stream",
     "text": [
      " waggle_max std: 0.000873165885379454 mean: 0.008838903286253445\n",
      " waggle_max_conv std: 0.0009168198546878121 mean: 0.008898728553932209\n",
      " waggle_box std: 0.0018877106280640757 mean: 0.0026802653423380405\n",
      " walk_max std: 0.0007696218796067361 mean: 0.00920051308451311\n",
      " walk_max_conv std: 0.0007696218796067361 mean: 0.00920051308451311\n",
      " walk_box std: 0.0007505089618547158 mean: 0.0007155755105246557\n",
      "th = 0.0024 d : 25 run label : testing\n",
      "DMD accuracy : 0.691\n",
      "DMD precision:  0.9231\n",
      "DMD recall : 0.4706\n",
      "DMD FalsePos : 0.0213\n",
      "DMD FalseNeg 0.2872\n"
     ]
    }
   ],
   "source": [
    "## results for transfrom kmeans transfrom box\n",
    "with warnings.catch_warnings():\n",
    "    warnings.simplefilter(\"ignore\", category=RuntimeWarning)\n",
    "    dmdPredict(BMT=BMT, d= 25, th=.0024)"
   ],
   "metadata": {
    "collapsed": false,
    "pycharm": {
     "name": "#%%\n"
    }
   }
  },
  {
   "cell_type": "code",
   "execution_count": null,
   "outputs": [],
   "source": [
    "a= np.array([1,2,2,2,3,4,6])\n",
    "(a == 2).sum()"
   ],
   "metadata": {
    "collapsed": false,
    "pycharm": {
     "name": "#%%\n"
    }
   }
  },
  {
   "cell_type": "code",
   "execution_count": null,
   "outputs": [],
   "source": [
    "## phi kmeans ## phi box\n",
    "dmdPredict(BMT=BMT, th=.0024)"
   ],
   "metadata": {
    "collapsed": false,
    "pycharm": {
     "name": "#%%\n"
    }
   }
  },
  {
   "cell_type": "code",
   "execution_count": null,
   "outputs": [],
   "source": [
    "with warnings.catch_warnings():\n",
    "    warnings.simplefilter(\"ignore\", category=RuntimeWarning)\n",
    "    dmdPredict(BMT=BMT, th=.001, comments=False)"
   ],
   "metadata": {
    "collapsed": false,
    "pycharm": {
     "name": "#%%\n"
    }
   }
  },
  {
   "cell_type": "code",
   "execution_count": null,
   "outputs": [],
   "source": [
    "a ,b ,c ,d ,e, f = [np.arange(i) for i in range(6)]\n",
    "print(a)\n",
    "for w in [  (a,'waggle_max'), (b,'waggle_max_conv'), (c, 'waggle_box'),\n",
    "            (d, 'walk_max'), (e,'walk_max_conv'), (f,'walk_box') ]:\n",
    "    print(w[0])\n",
    "    print(f' {w[1]} std: {np.std(w[0])} mean: {np.mean(w)}')"
   ],
   "metadata": {
    "collapsed": false,
    "pycharm": {
     "name": "#%%\n"
    }
   }
  },
  {
   "cell_type": "code",
   "execution_count": null,
   "outputs": [],
   "source": [],
   "metadata": {
    "collapsed": false,
    "pycharm": {
     "name": "#%%\n"
    }
   }
  },
  {
   "cell_type": "code",
   "execution_count": null,
   "outputs": [],
   "source": [],
   "metadata": {
    "collapsed": false,
    "pycharm": {
     "name": "#%%\n"
    }
   }
  },
  {
   "cell_type": "code",
   "execution_count": null,
   "outputs": [],
   "source": [],
   "metadata": {
    "collapsed": false,
    "pycharm": {
     "name": "#%%\n"
    }
   }
  },
  {
   "cell_type": "code",
   "execution_count": null,
   "outputs": [],
   "source": [],
   "metadata": {
    "collapsed": false,
    "pycharm": {
     "name": "#%%\n"
    }
   }
  },
  {
   "cell_type": "code",
   "execution_count": null,
   "outputs": [],
   "source": [],
   "metadata": {
    "collapsed": false,
    "pycharm": {
     "name": "#%%\n"
    }
   }
  },
  {
   "cell_type": "code",
   "execution_count": null,
   "outputs": [],
   "source": [],
   "metadata": {
    "collapsed": false,
    "pycharm": {
     "name": "#%%\n"
    }
   }
  }
 ],
 "metadata": {
  "kernelspec": {
   "display_name": "Python 3",
   "language": "python",
   "name": "python3"
  },
  "language_info": {
   "codemirror_mode": {
    "name": "ipython",
    "version": 2
   },
   "file_extension": ".py",
   "mimetype": "text/x-python",
   "name": "python",
   "nbconvert_exporter": "python",
   "pygments_lexer": "ipython2",
   "version": "2.7.6"
  }
 },
 "nbformat": 4,
 "nbformat_minor": 0
}